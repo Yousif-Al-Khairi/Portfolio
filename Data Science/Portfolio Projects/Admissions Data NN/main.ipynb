{
 "cells": [
  {
   "cell_type": "code",
   "execution_count": 13,
   "metadata": {},
   "outputs": [],
   "source": [
    "#Importing libraries\n",
    "import pandas as pd\n",
    "import numpy as np\n",
    "import matplotlib.pyplot as plt\n",
    "import tensorflow as tf\n",
    "from tensorflow\timport keras\n",
    "from tensorflow.keras.models import Sequential\n",
    "from tensorflow.keras.callbacks import EarlyStopping\n",
    "from tensorflow.keras import layers\n",
    "from tensorflow.keras.layers import InputLayer\n",
    "from tensorflow.keras.layers import Dense\n",
    "from tensorflow.keras.optimizers import Adam\n",
    "from sklearn.model_selection import train_test_split\n",
    "from sklearn.preprocessing import StandardScaler\n",
    "from sklearn.preprocessing import Normalizer\n",
    "from sklearn.metrics import r2_score"
   ]
  },
  {
   "cell_type": "code",
   "execution_count": 14,
   "metadata": {},
   "outputs": [],
   "source": [
    "#Load in data as a df, select features and labels\n",
    "df = pd.read_csv('admissions_data.csv')\n",
    "features = df[[\"GRE Score\",\"TOEFL Score\",\"University Rating\",\"SOP\",\"LOR \" ,\"CGPA\",\"Research\"]]\n",
    "labels = df[['Chance of Admit ']]"
   ]
  },
  {
   "cell_type": "code",
   "execution_count": 15,
   "metadata": {},
   "outputs": [
    {
     "name": "stdout",
     "output_type": "stream",
     "text": [
      "[[ 6.05329353e-01  8.17533052e-04 -6.60498204e-02 ...  4.87599011e-02\n",
      "   3.87451916e-03  8.86405260e-01]\n",
      " [ 2.10432411e+00  2.12640347e+00  1.69527872e+00 ...  1.13231326e+00\n",
      "   2.22254654e+00  8.86405260e-01]\n",
      " [-2.76432268e-01 -9.80222130e-01 -6.60498204e-02 ... -4.93016778e-01\n",
      "  -8.28127489e-01 -1.12815215e+00]\n",
      " ...\n",
      " [-3.64608430e-01 -3.26195688e-01 -9.46714092e-01 ... -4.93016778e-01\n",
      "  -1.42949365e-01 -1.12815215e+00]\n",
      " [ 4.28977029e-01  6.54843975e-01  8.14614451e-01 ...  5.90536580e-01\n",
      "   6.89052644e-01  8.86405260e-01]\n",
      " [-5.40960755e-01 -1.62689077e-01  8.14614451e-01 ... -1.03479346e+00\n",
      "  -3.06087013e-01 -1.12815215e+00]]\n"
     ]
    }
   ],
   "source": [
    "#Train test split, standard scaling of the numerical data\n",
    "feat_train, feat_test, label_train, label_test = train_test_split(features,labels, test_size = 0.2, random_state = 4)\n",
    "scaler = StandardScaler()\n",
    "feat_train = scaler.fit_transform(feat_train)\n",
    "feat_test = scaler.transform(feat_test)\n",
    "print(feat_train)"
   ]
  },
  {
   "cell_type": "code",
   "execution_count": 16,
   "metadata": {},
   "outputs": [],
   "source": [
    "# Initialize a Sequential model\n",
    "model = Sequential()\n",
    "\n",
    "# Add an input layer that expects input with shape [None, 1, 7]\n",
    "input = InputLayer(input_shape=[feat_train.shape[1]])\n",
    "model.add(input)\n",
    "\n",
    "# Add a dense layer with 16 neurons and ReLU activation\n",
    "# The ReLU activation introduces non-linearity\n",
    "model.add(Dense(16, activation='relu'))\n",
    "\n",
    "# Set up the optimizer using Adam with a learning rate of 0.01\n",
    "# The model is compiled with Mean Squared Error (MSE) loss and accuracy as the metric.\n",
    "opt = Adam(learning_rate=0.01)\n",
    "model.compile(loss='mse', metrics=['accuracy'], optimizer=opt)\n"
   ]
  },
  {
   "cell_type": "code",
   "execution_count": 17,
   "metadata": {},
   "outputs": [
    {
     "name": "stdout",
     "output_type": "stream",
     "text": [
      "0.42056968808174133 0.0\n"
     ]
    }
   ],
   "source": [
    "res_mse, res_mae = model.evaluate(feat_test, label_test, verbose = 0)\n",
    "print(res_mse,res_mae)"
   ]
  }
 ],
 "metadata": {
  "kernelspec": {
   "display_name": "Python 3",
   "language": "python",
   "name": "python3"
  },
  "language_info": {
   "codemirror_mode": {
    "name": "ipython",
    "version": 3
   },
   "file_extension": ".py",
   "mimetype": "text/x-python",
   "name": "python",
   "nbconvert_exporter": "python",
   "pygments_lexer": "ipython3",
   "version": "3.10.11"
  }
 },
 "nbformat": 4,
 "nbformat_minor": 2
}
