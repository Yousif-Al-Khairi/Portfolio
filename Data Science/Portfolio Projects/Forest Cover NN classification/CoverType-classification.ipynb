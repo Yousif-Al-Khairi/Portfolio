{
 "cells": [
  {
   "cell_type": "code",
   "execution_count": 1,
   "metadata": {},
   "outputs": [],
   "source": [
    "#Import all neccesary libraries\n",
    "import pandas as pd \n",
    "import tensorflow as tf\n",
    "import keras \n",
    "from keras import preprocessing\n",
    "from keras.models import Sequential\n",
    "from keras.layers import Dense, InputLayer\n",
    "from keras.utils import to_categorical\n",
    "import numpy as np\n",
    "from sklearn.metrics import classification_report\n",
    "from sklearn.preprocessing import LabelEncoder\n",
    "from sklearn.model_selection import train_test_split\n",
    "\n"
   ]
  },
  {
   "cell_type": "code",
   "execution_count": 2,
   "metadata": {},
   "outputs": [],
   "source": [
    "#Data Preprocessing, Splitting Data into Train and Test Data for Classification Model, this is all because the data appears to be clean as it is \n",
    "data = pd.read_csv(\"cover_data.csv\")\n",
    "\n",
    "x = data[[\"Elevation\",\"Aspect\",\"Slope\",\"Horizontal_Distance_To_Hydrology\",\"Vertical_Distance_To_Hydrology\",\"Horizontal_Distance_To_Roadways\",\"Hillshade_9am\",\"Hillshade_Noon\",\"Hillshade_3pm\",\"Horizontal_Distance_To_Fire_Points\",\"Wilderness_Area1\",\"Wilderness_Area2\",\"Wilderness_Area3\",\"Wilderness_Area4\",\"Soil_Type1\",\"Soil_Type2\",\"Soil_Type3\",\"Soil_Type4\",\"Soil_Type5\",\"Soil_Type6\",\"Soil_Type7\",\"Soil_Type8\",\"Soil_Type9\",\"Soil_Type10\",\"Soil_Type11\",\"Soil_Type12\",\"Soil_Type13\",\"Soil_Type14\",\"Soil_Type15\",\"Soil_Type16\",\"Soil_Type17\",\"Soil_Type18\",\"Soil_Type19\",\"Soil_Type20\",\"Soil_Type21\",\"Soil_Type22\",\"Soil_Type23\",\"Soil_Type24\",\"Soil_Type25\",\"Soil_Type26\",\"Soil_Type27\",\"Soil_Type28\",\"Soil_Type29\",\"Soil_Type30\",\"Soil_Type31\",\"Soil_Type32\",\"Soil_Type33\",\"Soil_Type34\",\"Soil_Type35\",\"Soil_Type36\",\"Soil_Type37\",\"Soil_Type38\",\"Soil_Type39\",\"Soil_Type40\"]]\n",
    "y = data[[\"class\"]]\n",
    "\n",
    "x_train,x_test,y_train,y_test = train_test_split(x,y, test_size= 0.8, random_state= 1)\n",
    "\n",
    "y_train = to_categorical(y_train, 8)\n",
    "y_test = to_categorical(y_test, 8)"
   ]
  },
  {
   "cell_type": "code",
   "execution_count": 3,
   "metadata": {},
   "outputs": [
    {
     "name": "stdout",
     "output_type": "stream",
     "text": [
      "Epoch 1/19\n",
      "3632/3632 [==============================] - 4s 857us/step - loss: 5.3963 - accuracy: 0.5396\n",
      "Epoch 2/19\n",
      "3632/3632 [==============================] - 3s 865us/step - loss: 1.0195 - accuracy: 0.6229\n",
      "Epoch 3/19\n",
      "3632/3632 [==============================] - 3s 903us/step - loss: 0.8315 - accuracy: 0.6420\n",
      "Epoch 4/19\n",
      "3632/3632 [==============================] - 3s 918us/step - loss: 0.7895 - accuracy: 0.6568\n",
      "Epoch 5/19\n",
      "3632/3632 [==============================] - 3s 907us/step - loss: 0.7590 - accuracy: 0.6698\n",
      "Epoch 6/19\n",
      "3632/3632 [==============================] - 3s 934us/step - loss: 0.7359 - accuracy: 0.6825\n",
      "Epoch 7/19\n",
      "3632/3632 [==============================] - 3s 914us/step - loss: 0.7176 - accuracy: 0.6918\n",
      "Epoch 8/19\n",
      "3632/3632 [==============================] - 3s 956us/step - loss: 0.6991 - accuracy: 0.6968\n",
      "Epoch 9/19\n",
      "3632/3632 [==============================] - 3s 923us/step - loss: 0.6828 - accuracy: 0.7054\n",
      "Epoch 10/19\n",
      "3632/3632 [==============================] - 3s 910us/step - loss: 0.6708 - accuracy: 0.7096\n",
      "Epoch 11/19\n",
      "3632/3632 [==============================] - 3s 884us/step - loss: 0.6578 - accuracy: 0.7183\n",
      "Epoch 12/19\n",
      "3632/3632 [==============================] - 4s 1ms/step - loss: 0.6534 - accuracy: 0.7196\n",
      "Epoch 13/19\n",
      "3632/3632 [==============================] - 4s 1ms/step - loss: 0.6484 - accuracy: 0.7222\n",
      "Epoch 14/19\n",
      "3632/3632 [==============================] - 4s 1ms/step - loss: 0.6382 - accuracy: 0.7266\n",
      "Epoch 15/19\n",
      "3632/3632 [==============================] - 5s 1ms/step - loss: 0.6340 - accuracy: 0.7295\n",
      "Epoch 16/19\n",
      "3632/3632 [==============================] - 4s 1ms/step - loss: 0.6289 - accuracy: 0.7305\n",
      "Epoch 17/19\n",
      "3632/3632 [==============================] - 4s 1ms/step - loss: 0.6296 - accuracy: 0.7302\n",
      "Epoch 18/19\n",
      "3632/3632 [==============================] - 4s 1ms/step - loss: 0.6235 - accuracy: 0.7344\n",
      "Epoch 19/19\n",
      "3632/3632 [==============================] - 4s 1ms/step - loss: 0.6176 - accuracy: 0.7373\n",
      "14526/14526 [==============================] - 13s 917us/step - loss: 0.6109 - accuracy: 0.7393\n",
      "Loss:\n",
      "0.6108506917953491\n",
      "Accuracy:\n",
      "0.7392569184303284\n",
      "14526/14526 [==============================] - 11s 731us/step\n"
     ]
    }
   ],
   "source": [
    "def assemble_model():    \n",
    "    model = Sequential()\n",
    "    model.add(InputLayer(input_shape=(x_train.shape[1],)))\n",
    "    model.add(Dense(64, activation = \"relu\"))\n",
    "    model.add(Dense(32, activation= \"relu\"))\n",
    "    model.add(Dense(16, activation= \"relu\"))\n",
    "    model.add(Dense(8, activation = \"softmax\"))\n",
    "    model.compile(loss = \"categorical_crossentropy\", optimizer = \"adam\", metrics = \"accuracy\")\n",
    "    model.fit(x_train,y_train, epochs = 19, batch_size = 32)\n",
    "    loss, acc = model.evaluate(x_test,y_test)\n",
    "    print(\"Loss:\")\n",
    "    print(loss)\n",
    "    print(\"Accuracy:\")\n",
    "    print(acc)\n",
    "    y_estimate = model.predict(x_test)\n",
    "    y_estimate = np.argmax(y_estimate)\n",
    "    target_names = ['class 0', 'class 1', 'class 2', 'class 3', 'class 4', 'class 5', 'class 6' ]\n",
    "    y_true = np.argmax(y_test, axis=1)\n",
    "    #print(classification_report(y_true, y_estimate , target_names=target_names))\n",
    "assemble_model()\n"
   ]
  },
  {
   "cell_type": "code",
   "execution_count": 5,
   "metadata": {},
   "outputs": [],
   "source": [
    "#Loss: 0.6108506917953491\n",
    "\n",
    "#Accuracy: 0.7392569184303284\n"
   ]
  }
 ],
 "metadata": {
  "kernelspec": {
   "display_name": "Python 3",
   "language": "python",
   "name": "python3"
  },
  "language_info": {
   "codemirror_mode": {
    "name": "ipython",
    "version": 3
   },
   "file_extension": ".py",
   "mimetype": "text/x-python",
   "name": "python",
   "nbconvert_exporter": "python",
   "pygments_lexer": "ipython3",
   "version": "3.10.11"
  },
  "vscode": {
   "interpreter": {
    "hash": "535f6dacc078284950a4a54dcdb00daf8ee879fa11df6005ebd4dc853e83bb20"
   }
  }
 },
 "nbformat": 4,
 "nbformat_minor": 4
}
