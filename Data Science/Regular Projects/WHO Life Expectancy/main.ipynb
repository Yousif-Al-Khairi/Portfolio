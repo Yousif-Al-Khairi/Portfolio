{
 "cells": [
  {
   "cell_type": "code",
   "execution_count": 13,
   "metadata": {},
   "outputs": [],
   "source": [
    "#Import libs\n",
    "import pandas\n",
    "from sklearn.model_selection import train_test_split\n",
    "from sklearn.preprocessing import StandardScaler\n",
    "from sklearn.preprocessing import Normalizer\n",
    "from sklearn.compose import ColumnTransformer\n",
    "from tensorflow.keras.models import Sequential\n",
    "from tensorflow.keras.layers import InputLayer\n",
    "from tensorflow.keras.layers import Dense\n",
    "from tensorflow.keras.optimizers import Adam"
   ]
  },
  {
   "cell_type": "code",
   "execution_count": 14,
   "metadata": {},
   "outputs": [],
   "source": [
    "#Import Data\n",
    "dataset = pandas.read_csv('lifeExpectancy_data.csv')"
   ]
  },
  {
   "cell_type": "code",
   "execution_count": 15,
   "metadata": {},
   "outputs": [],
   "source": [
    "#Label and feature selection, train test split\n",
    "\n",
    "labels = dataset.iloc[:, -1]\n",
    "features = dataset.iloc[:, 0:-1]\n",
    "features = pandas.get_dummies(dataset)\n",
    "features_train, features_test, labels_train,labels_test = train_test_split(features, labels, test_size = 0.2, random_state = 23)\n",
    "\n",
    "#Selecting numerical features and columns\n",
    "numerical_features = features.select_dtypes(include=['float64', 'int64'])\n",
    "numerical_columns = numerical_features.columns"
   ]
  },
  {
   "cell_type": "code",
   "execution_count": 16,
   "metadata": {},
   "outputs": [],
   "source": [
    "#Using a columntransformer to apply a standard scaler to only numerical columns, so we can keep the categorical values unchanged\n",
    "\n",
    "ct = ColumnTransformer([(\"only numeric\", StandardScaler(), numerical_columns)], remainder='passthrough')\n",
    "\n",
    "features_train_scaled = ct.fit_transform(features_train)\n",
    "features_test_scaled = ct.fit_transform(features_test)"
   ]
  },
  {
   "cell_type": "code",
   "execution_count": 17,
   "metadata": {},
   "outputs": [
    {
     "name": "stdout",
     "output_type": "stream",
     "text": [
      "Model: \"sequential_2\"\n",
      "_________________________________________________________________\n",
      " Layer (type)                Output Shape              Param #   \n",
      "=================================================================\n",
      " dense_4 (Dense)             (None, 64)                13824     \n",
      "                                                                 \n",
      " dense_5 (Dense)             (None, 1)                 65        \n"
     ]
    },
    {
     "name": "stdout",
     "output_type": "stream",
     "text": [
      "                                                                 \n",
      "=================================================================\n",
      "Total params: 13,889\n",
      "Trainable params: 13,889\n",
      "Non-trainable params: 0\n",
      "_________________________________________________________________\n",
      "None\n"
     ]
    }
   ],
   "source": [
    "# Initialize a Sequential model\n",
    "model = Sequential()\n",
    "\n",
    "# Add an input layer matching the number of features in the dataset\n",
    "input = InputLayer(input_shape=(features_train.shape[1],))\n",
    "model.add(input)\n",
    "\n",
    "\n",
    "# Add a dense hidden layer with 64 neurons and ReLU activation\n",
    "model.add(Dense(64, activation='relu'))\n",
    "\n",
    "# Add a dense output layer with 1 neuron (for regression)\n",
    "model.add(Dense(1))\n",
    "\n",
    "# Display a summary of the model architecture\n",
    "print(model.summary())\n",
    "\n",
    "# Compile the model with Adam optimizer and mean squared error loss\n",
    "opt = Adam(learning_rate=0.01)\n",
    "model.compile(loss='mse', metrics=['mae'], optimizer=opt)\n"
   ]
  },
  {
   "cell_type": "code",
   "execution_count": 18,
   "metadata": {},
   "outputs": [
    {
     "name": "stdout",
     "output_type": "stream",
     "text": [
      "0.06821408867835999 0.20222051441669464\n"
     ]
    }
   ],
   "source": [
    "# Train the model on the training data for 50 epochs with a batch size of 1\n",
    "model.fit(features_train_scaled, labels_train, epochs=50, batch_size=1, verbose=0)\n",
    "\n",
    "# Evaluate the model on the test data and store the MSE and MAE results\n",
    "res_mse, res_mae = model.evaluate(features_test_scaled, labels_test, verbose=0)\n",
    "\n",
    "print(res_mse, res_mae)\n"
   ]
  },
  {
   "cell_type": "code",
   "execution_count": null,
   "metadata": {},
   "outputs": [],
   "source": [
    "## The model's performance is quite good for predicting life expectancy.\n",
    "# An MSE of 0.068 and an MAE of 0.2022 indicate that, on average, the predictions \n",
    "# are off by about 0.2 years (or roughly 2.4 months). Given that life expectancy \n",
    "# typically ranges between 50 to 85 years, these errors are small and suggest \n",
    "# the model is making accurate predictions with minimal large deviations."
   ]
  }
 ],
 "metadata": {
  "kernelspec": {
   "display_name": "Python 3",
   "language": "python",
   "name": "python3"
  },
  "language_info": {
   "codemirror_mode": {
    "name": "ipython",
    "version": 3
   },
   "file_extension": ".py",
   "mimetype": "text/x-python",
   "name": "python",
   "nbconvert_exporter": "python",
   "pygments_lexer": "ipython3",
   "version": "3.10.11"
  }
 },
 "nbformat": 4,
 "nbformat_minor": 2
}
