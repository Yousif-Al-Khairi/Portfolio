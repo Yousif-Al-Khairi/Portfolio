{
 "cells": [
  {
   "cell_type": "markdown",
   "metadata": {},
   "source": [
    "What interesting things do we want to find out about this dataset? \n",
    "\n",
    "- Average Age of Smoker \n",
    "- Average Price for Smoker\n",
    "- Average Price for Non-Smoker\n",
    "- How much does insurance increase or decrease if you have kids? \n",
    "- Average age of Dataset"
   ]
  },
  {
   "cell_type": "markdown",
   "metadata": {},
   "source": [
    "Loading Dataset\n"
   ]
  },
  {
   "cell_type": "code",
   "execution_count": 10,
   "metadata": {},
   "outputs": [
    {
     "name": "stdout",
     "output_type": "stream",
     "text": [
      "['age', 'sex', 'bmi', 'children', 'smoker', 'region', 'charges']\n"
     ]
    }
   ],
   "source": [
    "import csv\n",
    "\n",
    "data_points = []\n",
    "\n",
    "with open(\"insurance.csv\",\"r\") as dataset:\n",
    "    dataset_reader = csv.reader(dataset)\n",
    "    for row in dataset_reader: \n",
    "        data_points.append(row)\n",
    "\n",
    "print(data_points.pop(0))\n",
    "\n",
    "#Dataset is ready"
   ]
  },
  {
   "cell_type": "markdown",
   "metadata": {},
   "source": [
    "Average age of smoker\n"
   ]
  },
  {
   "cell_type": "code",
   "execution_count": 23,
   "metadata": {},
   "outputs": [
    {
     "name": "stdout",
     "output_type": "stream",
     "text": [
      "The average smoker age is 38.51459854014598 years old\n"
     ]
    }
   ],
   "source": [
    "total_smoker_age = 0\n",
    "total_smokers = 0\n",
    "for person in data_points:\n",
    "    if person[4] == \"yes\":\n",
    "        total_smokers += 1\n",
    "        total_smoker_age += int(person[0])\n",
    "        \n",
    "avg_smoker_age = total_smoker_age/total_smokers\n",
    "\n",
    "print(f\"The average smoker age is {avg_smoker_age} years old\")"
   ]
  },
  {
   "cell_type": "markdown",
   "metadata": {},
   "source": [
    "Average Price for Smoker\n"
   ]
  },
  {
   "cell_type": "code",
   "execution_count": 34,
   "metadata": {},
   "outputs": [
    {
     "name": "stdout",
     "output_type": "stream",
     "text": [
      "The average smoker age pays 32050.23183153285 dollars\n"
     ]
    }
   ],
   "source": [
    "total_smoker_price = 0\n",
    "\n",
    "for person in data_points:\n",
    "    if person[4] == \"yes\":\n",
    "        total_smoker_price += float(person[6])\n",
    "        \n",
    "avg_smoker_price = total_smoker_price/total_smokers\n",
    "\n",
    "print(f\"The average smoker age pays {avg_smoker_price} dollars\")"
   ]
  },
  {
   "cell_type": "markdown",
   "metadata": {},
   "source": [
    "Average Price for Non-Smoker\n"
   ]
  },
  {
   "cell_type": "code",
   "execution_count": 37,
   "metadata": {},
   "outputs": [
    {
     "name": "stdout",
     "output_type": "stream",
     "text": [
      "The average nonsmoker age pays 8434.268297856199 dollars\n"
     ]
    }
   ],
   "source": [
    "total_nonsmoker_price = 0\n",
    "total_nonsmokers = 0\n",
    "for person in data_points:\n",
    "    if person[4] == \"no\":\n",
    "        total_nonsmokers += 1\n",
    "        total_nonsmoker_price += float(person[6])\n",
    "        \n",
    "avg_nonsmoker_price = total_nonsmoker_price/total_nonsmokers\n",
    "\n",
    "print(f\"The average nonsmoker age pays {avg_nonsmoker_price} dollars\")"
   ]
  },
  {
   "cell_type": "markdown",
   "metadata": {},
   "source": [
    "How does having kids affect insurance costs?\n"
   ]
  },
  {
   "cell_type": "code",
   "execution_count": 41,
   "metadata": {},
   "outputs": [
    {
     "name": "stdout",
     "output_type": "stream",
     "text": [
      "13949.94109348167\n",
      "12365.975601635882\n",
      "The average price for someone with kids is 13949.94109348167 while the average price for someone without kids is 12365.975601635882\n"
     ]
    }
   ],
   "source": [
    "kids = 0\n",
    "nokids = 0\n",
    "pkids = 0\n",
    "pnokids = 0\n",
    "\n",
    "for person in data_points:\n",
    "    if int(person[3]) == 0:\n",
    "        nokids += 1\n",
    "        pnokids += float(person[6])\n",
    "    else:\n",
    "        kids += 1\n",
    "        pkids += float(person[6])\n",
    "\n",
    "avgkids = pkids/kids\n",
    "avgnokids = pnokids/nokids\n",
    "\n",
    "print(avgkids)\n",
    "print(avgnokids)\n",
    "\n",
    "print(f\"The average price for someone with kids is {avgkids} while the average price for someone without kids is {avgnokids}\")"
   ]
  }
 ],
 "metadata": {
  "kernelspec": {
   "display_name": "Python 3",
   "language": "python",
   "name": "python3"
  },
  "language_info": {
   "codemirror_mode": {
    "name": "ipython",
    "version": 3
   },
   "file_extension": ".py",
   "mimetype": "text/x-python",
   "name": "python",
   "nbconvert_exporter": "python",
   "pygments_lexer": "ipython3",
   "version": "3.11.5"
  },
  "orig_nbformat": 4
 },
 "nbformat": 4,
 "nbformat_minor": 2
}
