{
 "cells": [
  {
   "cell_type": "markdown",
   "metadata": {},
   "source": [
    "National Parks Service Portfolio Project\n",
    "\n",
    "TODO: \n",
    "1. Import neccesary libraries\n",
    "2. Set up dataframes\n",
    "3. Exploratory data analysis/cleaning\n",
    "4. What is the distribution of conservation_status for animals? \n",
    "5. Are certain types of species more likely to be endangered? \n",
    "6. Are the differences between species and their conservation status significant?\n",
    "7. Which species were spotted the most at each park?\n"
   ]
  },
  {
   "cell_type": "code",
   "execution_count": 5,
   "metadata": {},
   "outputs": [],
   "source": [
    "#1. Importing neccessary Libraries\n",
    "import matplotlib.pyplot as plt\n",
    "import pandas as pd\n",
    "import numpy as np \n",
    "import seaborn as sns\n",
    "from sklearn.experimental import enable_iterative_imputer\n",
    "from sklearn.impute import IterativeImputer\n",
    "from sklearn.model_selection import train_test_split\n",
    "pd.set_option('display.max_rows',500)\n",
    "pd.set_option('display.max_columns',504)\n",
    "pd.set_option('display.width',150)"
   ]
  },
  {
   "cell_type": "code",
   "execution_count": 20,
   "metadata": {},
   "outputs": [],
   "source": [
    "#2. Set up Dataframe\n",
    "\n",
    "species = pd.read_csv(\"species_info.csv\")\n",
    "observations = pd.read_csv(\"observations.csv\")"
   ]
  },
  {
   "cell_type": "code",
   "execution_count": 35,
   "metadata": {},
   "outputs": [
    {
     "name": "stdout",
     "output_type": "stream",
     "text": [
      "--------------------------------------------------------------------------------------------------------------------\n",
      "category                  0\n",
      "scientific_name           0\n",
      "common_names              0\n",
      "conservation_status    5363\n",
      "dtype: int64\n",
      "--------------------------------------------------------------------------------------------------------------------\n",
      "category               0\n",
      "scientific_name        0\n",
      "common_names           0\n",
      "conservation_status    0\n",
      "dtype: int64\n"
     ]
    }
   ],
   "source": [
    "#3a.  Exploratory data analysis/cleaning for species df\n",
    "#print(species.head())\n",
    "print(\"--------------------------------------------------------------------------------------------------------------------\")\n",
    "#print(observations.head())\n",
    "\n",
    "#how many different kinds of species? \n",
    "#print(len(species[\"scientific_name\"].unique()))\n",
    "#strange, length of species csv not counting the column name row is 5824, but the number of unique species in this list is much less than that\n",
    "#print(species[\"scientific_name\"].hasnans)\n",
    "#no NaNs, maybe duplicates? yes duplicates\n",
    "#Drop duplicating scientific names, those only vary between duplicating frames and regional common names dont matter\n",
    "\n",
    "species = species.drop_duplicates(subset=[\"scientific_name\"])\n",
    "#print(species[\"scientific_name\"].value_counts())\n",
    "\n",
    "print(species.isna().sum())\n",
    "print(\"--------------------------------------------------------------------------------------------------------------------\")\n",
    "\n",
    "species[\"conservation_status\"].fillna(value =\"Not Conserved\", inplace=True)\n",
    "print(species.isna().sum())\n",
    "#TLDR: Removed duplicate values and filled every NaN in conservation status with a string explaining its not conserved\n"
   ]
  },
  {
   "cell_type": "code",
   "execution_count": 50,
   "metadata": {},
   "outputs": [
    {
     "name": "stdout",
     "output_type": "stream",
     "text": [
      "            scientific_name                            park_name  observations\n",
      "0        Vicia benghalensis  Great Smoky Mountains National Park            68\n",
      "1            Neovison vison  Great Smoky Mountains National Park            77\n",
      "2         Prunus subcordata               Yosemite National Park           138\n",
      "3      Abutilon theophrasti                  Bryce National Park            84\n",
      "4  Githopsis specularioides  Great Smoky Mountains National Park            85\n",
      "scientific_name    0\n",
      "park_name          0\n",
      "observations       0\n",
      "dtype: int64\n",
      "0\n",
      "0\n"
     ]
    }
   ],
   "source": [
    "#3b Exploratory data analysis/cleaning for species df\n",
    "print(observations.head())\n",
    "print(observations.isna().sum())\n",
    "print(observations.duplicated().sum())\n",
    "observations.drop_duplicates(inplace=True)\n",
    "print(observations.duplicated().sum())\n",
    "#Observations dataframe seems to be clean"
   ]
  }
 ],
 "metadata": {
  "kernelspec": {
   "display_name": "Python 3",
   "language": "python",
   "name": "python3"
  },
  "language_info": {
   "codemirror_mode": {
    "name": "ipython",
    "version": 3
   },
   "file_extension": ".py",
   "mimetype": "text/x-python",
   "name": "python",
   "nbconvert_exporter": "python",
   "pygments_lexer": "ipython3",
   "version": "3.10.11"
  }
 },
 "nbformat": 4,
 "nbformat_minor": 4
}
